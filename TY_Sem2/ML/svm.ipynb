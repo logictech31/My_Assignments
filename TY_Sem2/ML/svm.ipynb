{
 "cells": [
  {
   "cell_type": "code",
   "execution_count": 137,
   "id": "14a06aeb-d0d1-4927-8609-d846bff0855a",
   "metadata": {
    "tags": []
   },
   "outputs": [],
   "source": [
    "import numpy as np\n",
    "from sklearn.model_selection import cross_val_score, GridSearchCV\n",
    "from sklearn.decomposition import PCA\n",
    "from sklearn.metrics import confusion_matrix, accuracy_score\n",
    "from sklearn.datasets import load_breast_cancer\n",
    "from sklearn.pipeline import make_pipeline\n",
    "from sklearn.svm import SVC\n",
    "from sklearn.preprocessing import StandardScaler"
   ]
  },
  {
   "cell_type": "code",
   "execution_count": 138,
   "id": "381b6dce-b6c1-46da-a4f0-5c902f46afd8",
   "metadata": {
    "tags": []
   },
   "outputs": [
    {
     "name": "stdout",
     "output_type": "stream",
     "text": [
      "(569, 30)\n",
      "(569,)\n"
     ]
    }
   ],
   "source": [
    "ds = load_breast_cancer()\n",
    "X, y = ds.data, ds.target\n",
    "print(X.shape)\n",
    "print(y.shape)"
   ]
  },
  {
   "cell_type": "code",
   "execution_count": 139,
   "id": "ee2b533d-e8cb-44bd-ac8c-f075cf4ebf1f",
   "metadata": {
    "tags": []
   },
   "outputs": [],
   "source": [
    "# Pipeline => 1. Standard Scaler => scaled data goes to GridSearchCV then it searches\n",
    "# the best params so 2. GridSearchCV and then the parameters we get will be used in 3. SVC\n",
    "scaler = StandardScaler()\n",
    "scaler = scaler.fit(X)\n",
    "X_scaled = scaler.transform(X)"
   ]
  },
  {
   "cell_type": "code",
   "execution_count": 140,
   "id": "ddf69f91-d81c-408e-bc37-eacee5c13e7d",
   "metadata": {
    "tags": []
   },
   "outputs": [
    {
     "name": "stdout",
     "output_type": "stream",
     "text": [
      "Params available:  {'C': 1.0, 'break_ties': False, 'cache_size': 200, 'class_weight': None, 'coef0': 0.0, 'decision_function_shape': 'ovr', 'degree': 3, 'gamma': 'scale', 'kernel': 'rbf', 'max_iter': -1, 'probability': False, 'random_state': None, 'shrinking': True, 'tol': 0.001, 'verbose': False}\n",
      "\n",
      "Before Changing:  {'C': array([1.  , 0.1 , 0.01, 0.15, 0.05]), 'degree': array([1, 2, 3]), 'gamma': array([0, 1]), 'kernel': array(['rbf', 'sigmoid', 'linear', 'poly'], dtype='<U7')}\n",
      "\n",
      "Best params:  {'C': 0.05, 'degree': 1, 'gamma': 0, 'kernel': 'linear'}\n"
     ]
    }
   ],
   "source": [
    "clf = SVC()\n",
    "param_grid=clf.get_params()\n",
    "print(\"Params available: \", param_grid)\n",
    "param_grid = {\n",
    "    'C': np.array([1.0, 0.1, 0.01, 0.15]),\n",
    "    'degree': np.array([1, 2, 3]),\n",
    "    'gamma': np.array([0, 1]),\n",
    "    'kernel': np.array(['rbf', 'sigmoid', 'linear', 'poly'])\n",
    "}\n",
    "print(\"\\nBefore Changing: \", param_grid)\n",
    "gs = GridSearchCV(estimator=clf, param_grid=param_grid)\n",
    "gs = gs.fit(X_scaled, y)\n",
    "param_grid = gs.best_params_\n",
    "print(\"\\nBest params: \", param_grid)"
   ]
  },
  {
   "cell_type": "code",
   "execution_count": 141,
   "id": "821db975-6d4a-4794-811c-c51be5af2929",
   "metadata": {
    "tags": []
   },
   "outputs": [
    {
     "name": "stdout",
     "output_type": "stream",
     "text": [
      "Accuracy Score:  98.24253075571178 %\n"
     ]
    }
   ],
   "source": [
    "clf = clf.set_params(**param_grid)\n",
    "clf.fit(X_scaled, y)\n",
    "score = clf.score(X_scaled, y)\n",
    "print(\"Accuracy Score: \", score*100, \"%\")\n",
    "support_vecs = clf.support_vectors_"
   ]
  },
  {
   "cell_type": "code",
   "execution_count": 142,
   "id": "45993aef-f104-4a57-8dcf-2406e7a2e5fd",
   "metadata": {
    "tags": []
   },
   "outputs": [
    {
     "data": {
      "image/png": "[encoded data removed]",
      "text/plain": [
       "<Figure size 800x800 with 1 Axes>"
      ]
     },
     "metadata": {},
     "output_type": "display_data"
    }
   ],
   "source": [
    "import matplotlib.pyplot as plt\n",
    "fig, ax = plt.subplots(figsize=(8, 8))\n",
    "\n",
    "plt.show()"
   ]
  },
  {
   "cell_type": "code",
   "execution_count": null,
   "id": "8e93160c-2f1a-4aa2-a922-e53b3a582828",
   "metadata": {},
   "outputs": [],
   "source": []
  }
 ],
 "metadata": {
  "kernelspec": {
   "display_name": "Python 3 (ipykernel)",
   "language": "python",
   "name": "python3"
  },
  "language_info": {
   "codemirror_mode": {
    "name": "ipython",
    "version": 3
   },
   "file_extension": ".py",
   "mimetype": "text/x-python",
   "name": "python",
   "nbconvert_exporter": "python",
   "pygments_lexer": "ipython3",
   "version": "3.11.5"
  }
 },
 "nbformat": 4,
 "nbformat_minor": 5
}
