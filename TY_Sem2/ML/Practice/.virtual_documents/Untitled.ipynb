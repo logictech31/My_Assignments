import pandas as pd
import matplotlib.pyplot as plt
from sklearn.datasets import make_blobs
from sklearn.cluster import SpectralClustering, DBSCAN
from sklearn.metrics import silhouette_score, adjusted_rand_score


# Generate sample data (you can replace this with your own dataset)
X, y = make_blobs(n_samples=500, centers=4, cluster_std=0.60, random_state=0)

# Spectral Clustering
spectral_cluster = SpectralClustering(n_clusters=3, affinity='nearest_neighbors', random_state=0)
spectral_labels = spectral_cluster.fit_predict(X)

# DBSCAN
dbscan = DBSCAN(eps=0.3, min_samples=10)
dbscan_labels = dbscan.fit_predict(X)

# Evaluate Spectral Clustering
spectral_silhouette_score = silhouette_score(X, spectral_labels)
spectral_adjusted_rand_score = adjusted_rand_score(y, spectral_labels)

# Evaluate DBSCAN
dbscan_silhouette_score = silhouette_score(X, dbscan_labels)
dbscan_adjusted_rand_score = adjusted_rand_score(y, dbscan_labels)

# Plot the clusters
plt.figure(figsize=(12, 5))

plt.subplot(1, 2, 1)
plt.scatter(X[:, 0], X[:, 1], c=spectral_labels, cmap='viridis')
plt.title(f"Spectral Clustering\nSilhouette Score: {spectral_silhouette_score:.2f}, ARI: {spectral_adjusted_rand_score:.2f}")

plt.subplot(1, 2, 2)
plt.scatter(X[:, 0], X[:, 1], c=dbscan_labels, cmap='viridis')
plt.title(f"DBSCAN\nSilhouette Score: {dbscan_silhouette_score:.2f}, ARI: {dbscan_adjusted_rand_score:.2f}")

plt.show()



