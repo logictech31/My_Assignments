from sklearn.svm import SVC
from sklearn.model_selection import train_test_split, cross_val_score, GridSearchCV



