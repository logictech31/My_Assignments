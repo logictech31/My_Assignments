import numpy as np
import pandas as pd
from sklearn.datasets import load_iris
from sklearn.model_selection import cross_val_score
import matplotlib.pyplot as plt
from sklearn.neural_network import MLPClassifier


clf = MLPClassifier(learning_rate_init=0.05, hidden_layer_sizes=(100,), activation="tanh", solver="sgd", learning_rate="constant")


dataset = load_iris()
X, y = dataset.data, dataset.target


clf.fit(X, y)


score = cross_val_score(clf, X, y, cv=10)


print(score.mean() * 100, '\b%', score.std())



