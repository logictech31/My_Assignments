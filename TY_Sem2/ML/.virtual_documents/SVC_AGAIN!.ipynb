from sklearn.datasets import load_breast_cancer
from sklearn.decomposition import PCA
from sklearn.model_selection import train_test_split, cross_val_score, GridSearchCV
from sklearn.metrics import accuracy_score
from sklearn.svm import SVC


dataset = load_breast_cancer()
X, y = dataset.data, dataset.target
X_train, X_test, y_train, y_test = train_test_split(X, y)


params = {'C':[0.01, 0.1, 0.05, 0.5, 0.075, 0.75], 'kernel':['rbf', 'sigmoid', 'poly']}
clf = SVC()
gridsearch = GridSearchCV(clf, params, cv=5)


gridsearch.fit(X, y)
clf = gridsearch.best_estimator_
clf


clf.fit(X_train, y_train)
y_pred = clf.predict(X_test)


print('Accuracy: ', round(accuracy_score(y_test, y_pred)*100, 4), '%')


# Visualization


import matplotlib.pyplot as plt


# For the sake of plotting scatter points, reducing the number of features
pca = PCA(n_components=2)
X_test_2d = pca.fit_transform(X_test)
support_vectors = pca.fit_transform(clf.support_vectors_)


fig, ax = plt.subplots(ncols=2, figsize=(12, 4))
ax[0].set_title('True Y')
ax[1].set_title('Predicted Y')

true = ax[0].scatter(X_test_2d[:, 0], X_test_2d[:, 1], c=y_test)

pred = ax[1].scatter(X_test_2d[:, 0], X_test_2d[:, 1], c=y_pred)
ax[1].plot(support_vectors)

ax[0].legend(*true.legend_elements())
ax[1].legend(*true.legend_elements())
plt.show()






