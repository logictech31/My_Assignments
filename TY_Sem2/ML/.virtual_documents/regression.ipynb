import pandas as pd
import math
import numpy as np
from sklearn.model_selection import train_test_split, cross_val_score
import sklearn.preprocessing as pre
from sklearn.datasets import load_diabetes
import matplotlib.pyplot as plt
from sklearn.metrics import accuracy_score, mean_squared_error
from sklearn.tree import DecisionTreeRegressor


ds = load_diabetes()
X, y = ds.data, ds.target
print(X.shape)
print(y.shape)


# Classifier has been set
dtrg = DecisionTreeRegressor(max_depth=2)


# Now we split data for training and testing
X_train, X_test, y_train, y_test = train_test_split(X, y, test_size=0.2, random_state=42)


# Now we perform regression on it
dtrg.fit(X_train, y_train)


print(cross_val_score(dtrg_, X, y=y, cv=5))


hypothesis = dtrg_.predict(X_test)


from sklearn.decomposition import PCA
import matplotlib.pyplot as plt

pca = PCA(n_components=1)
X_test_transform = pca.fit_transform(X_test)


fig, ax = plt.subplots(figsize=(8,4))
print(y_test.shape)
ax.scatter(X_test_transform, y_test)
ax.plot(X_test_transform, hypothesis, color='orange')
plt.show()


mean_squared_error(y_test, hypothesis)



