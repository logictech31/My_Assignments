import pandas as pd
import numpy as np
from sklearn.datasets import load_diabetes
from sklearn.model_selection import train_test_split
import sklearn.preprocessing as pre
import matplotlib.pyplot as plt


# Using a dummy dataset
dataset = load_diabetes()


X, y = dataset.data, dataset.target


X.shape


y.shape


# Split training and testing data now
# test_size = 0.2 meaning 20% of data is for testing
X_train, X_test, y_train, y_test = train_test_split(X, y, test_size=0.2, random_state=42)


print(X_train.shape)
print(X_test.shape)


print(y_train.shape)
print(y_test.shape)


# Pandas
import pandas as pd


dataset = pd.read_csv(f'datasets/apple_quality.csv');
dataset


dataset.isnull()


from sklearn.preprocessing import LabelEncoder
import numpy as np


dataset.iloc[-1:, :1] = dataset.iloc[-1:, :1] = 4000
dataset['Size'] = dataset['Size'].fillna(dataset['Size'].mean())
dataset['Weight'] = dataset['Weight'].fillna(dataset['Weight'].mean())
dataset['Sweetness'] = dataset['Sweetness'].fillna(dataset['Sweetness'].mean())
dataset['Crunchiness'] = dataset['Crunchiness'].fillna(dataset['Crunchiness'].mean())
dataset['Juiciness'] = dataset['Juiciness'].fillna(dataset['Juiciness'].mean())
dataset['Ripeness'] = dataset['Ripeness'].fillna(dataset['Ripeness'].mean())
dataset.iloc[-1:, 7:-1] = dataset.iloc[-2:-1, 7:-1]
dataset.iloc[-1:, -1:] = 'bad'
dataset


le = LabelEncoder()
dataset['Quality_Enc'] = le.fit_transform(dataset['Quality']).reshape(-1, 1);
dataset


dataset['Quality'].unique()
dataset.isna().sum()



