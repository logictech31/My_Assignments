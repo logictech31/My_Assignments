from sklearn.datasets import load_iris
import matplotlib.pyplot as plt
from sklearn.decomposition import PCA
from sklearn.ensemble import RandomForestClassifier
from sklearn.model_selection import train_test_split, cross_val_score


rcf = RandomForestClassifier(n_estimators=15)
pca = PCA(n_components=1)


X, y = load_iris(return_X_y=True)
X_train, X_test, y_train, y_test = train_test_split(X, y)


rcf.fit(X_train, y_train)


y_pred = rcf.predict(X_test)
X_test = pca.fit_transform(X_test)


fig, ax = plt.subplots(ncols=2, figsize=(12, 4))
fig.suptitle('Random Forest Classifier')
ax[0].scatter(X_test, y_test, c=y_test)
ax[0].set_title('True Values')
ax[1].scatter(X_test, y_pred, c=y_pred)
ax[1].set_title('Predicted Values')
plt.show()


cross_val_score(rcf, X_train, y_train).mean()
