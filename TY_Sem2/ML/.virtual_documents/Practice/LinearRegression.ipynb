from sklearn.datasets import load_diabetes
from sklearn.linear_model import LinearRegression
from sklearn.model_selection import cross_val_score, train_test_split
from sklearn.metrics import mean_squared_error


dataset = load_diabetes()
X, y = dataset.data, dataset.target


linearModel = LinearRegression()


X_train, X_test, y_train, y_test = train_test_split(X, y, test_size=0.23)


linearModel = linearModel.fit(X_train, y_train)


hypothesis = linearModel.predict(X_test)
mse = mean_squared_error(y_test, hypothesis)


import matplotlib.pyplot as plt


fig, ax = plt.subplots(figsize=(4, 4))
plt.plot(y_test)
plt.plot(hypothesis, color='red')
print('MSE: ', mse)
fig.suptitle('Linear Regression')
plt.show()


# Code source: Jaques Grobler
# License: BSD 3 clause

import matplotlib.pyplot as plt
import numpy as np
from sklearn.decomposition import PCA

from sklearn import datasets, linear_model
from sklearn.metrics import mean_squared_error, r2_score

# Load the diabetes dataset
diabetes_X, diabetes_y = datasets.load_diabetes(return_X_y=True)

# Use only one feature
pca = PCA(n_components=1)
diabetes_X = pca.fit_transform(diabetes_X)
# Split the data into training/testing sets
diabetes_X_train = diabetes_X[:-20]
diabetes_X_test = diabetes_X[-20:]

# Split the targets into training/testing sets
diabetes_y_train = diabetes_y[:-20]
diabetes_y_test = diabetes_y[-20:]

# Create linear regression object
regr = linear_model.LinearRegression()

# Train the model using the training sets
regr.fit(diabetes_X_train, diabetes_y_train)

# Make predictions using the testing set
diabetes_y_pred = regr.predict(diabetes_X_test)

# The coefficients
print("Coefficients: \n", regr.coef_)
# The mean squared error
print("Mean squared error: %.2f" % mean_squared_error(diabetes_y_test, diabetes_y_pred))
# The coefficient of determination: 1 is perfect prediction
print("Coefficient of determination: %.2f" % r2_score(diabetes_y_test, diabetes_y_pred))

# Plot outputs
plt.scatter(diabetes_X_test, diabetes_y_test, color="black")
plt.plot(diabetes_X_test, diabetes_y_pred, color="blue", linewidth=3)

plt.xticks(())
plt.yticks(())

plt.show()



