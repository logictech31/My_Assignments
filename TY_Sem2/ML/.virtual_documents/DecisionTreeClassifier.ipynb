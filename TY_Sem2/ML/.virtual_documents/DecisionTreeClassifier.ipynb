from sklearn.datasets import load_iris
from sklearn.decomposition import PCA
from sklearn.model_selection import cross_val_score, train_test_split
from sklearn.metrics import confusion_matrix
from sklearn.tree import DecisionTreeClassifier, plot_tree


clf = DecisionTreeClassifier(max_depth=3)
dataset = load_iris()
X, y = dataset.data, dataset.target
x_train, x_test, y_train, y_test = train_test_split(X, y)


cross_val_score(clf, X, y, cv=10).mean() * 100


clf.fit(x_train, y_train)
y_pred = clf.predict(x_test)


cm = confusion_matrix(y_pred, y_test)


import seaborn as sns
sns.heatmap(cm)


import matplotlib.pyplot as plt


plot_tree(clf, filled=True)


# Before plotting, we will reduce the number of features for the convenience of plotting the points
pca = PCA(n_components=2)
x_test = pca.fit_transform(x_test)


import matplotlib.pyplot as plt

fig, ax = plt.subplots(nrows=1, ncols=2, figsize=(12, 4))
true = ax[0].scatter(x_test[:, 0], x_test[:, 1], c=y_test, label='True')

ax[0].legend(*true.legend_elements(), title='Species')

pred = ax[1].scatter(x_test[:, 0], x_test[:, 1], c=y_pred, label='Prediction')

ax[1].legend(*pred.legend_elements(), title='Species')


dataset.DESCR



