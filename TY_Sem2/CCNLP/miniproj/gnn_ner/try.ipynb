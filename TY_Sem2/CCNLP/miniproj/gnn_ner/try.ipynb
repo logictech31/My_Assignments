{
 "cells": [
  {
   "cell_type": "code",
   "execution_count": 5,
   "id": "643c181e-7516-439b-b422-f0f9285de3b4",
   "metadata": {},
   "outputs": [],
   "source": [
    "text = \"My name is Anthony Gonzalves. I am Rajesh. This is Gonzalves. I am Anthony.\"\n",
    "import nltk\n",
    "sent_tokens = nltk.sent_tokenize(text)\n",
    "import spacy\n",
    "nlp = spacy.load('en_core_web_sm')\n",
    "doc = nlp(text)"
   ]
  },
  {
   "cell_type": "code",
   "execution_count": 7,
   "id": "06ef4b8f-4837-48be-8d17-af28e759207c",
   "metadata": {},
   "outputs": [
    {
     "data": {
      "text/plain": [
       "{Anthony, Gonzalves, Rajesh, Anthony}"
      ]
     },
     "execution_count": 7,
     "metadata": {},
     "output_type": "execute_result"
    }
   ],
   "source": [
    "ents = set()\n",
    "for i in range(0, len(sent_tokens)):\n",
    "    for x in doc.ents:\n",
    "        "
   ]
  },
  {
   "cell_type": "code",
   "execution_count": null,
   "id": "a63a65ef-6eaa-4e6e-baeb-2cc00117efd2",
   "metadata": {},
   "outputs": [],
   "source": []
  }
 ],
 "metadata": {
  "kernelspec": {
   "display_name": "Python 3 (ipykernel)",
   "language": "python",
   "name": "python3"
  },
  "language_info": {
   "codemirror_mode": {
    "name": "ipython",
    "version": 3
   },
   "file_extension": ".py",
   "mimetype": "text/x-python",
   "name": "python",
   "nbconvert_exporter": "python",
   "pygments_lexer": "ipython3",
   "version": "3.11.5"
  }
 },
 "nbformat": 4,
 "nbformat_minor": 5
}
