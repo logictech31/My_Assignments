text = "My name is Anthony Gonzalves. I am Rajesh. This is Gonzalves. I am Anthony."
import nltk
sent_tokens = nltk.sent_tokenize(text)
import spacy
nlp = spacy.load('en_core_web_sm')
doc = nlp(text)


ents = set()
for i in range(0, len(sent_tokens)):
    for x in doc.ents:
        



